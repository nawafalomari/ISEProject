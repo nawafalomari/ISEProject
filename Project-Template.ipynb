{
 "cells": [
  {
   "cell_type": "markdown",
   "id": "controlled-romantic",
   "metadata": {
    "toc": true
   },
   "source": [
    "<h1>Table of Contents<span class=\"tocSkip\"></span></h1>\n",
    "<div class=\"toc\"><ul class=\"toc-item\"><li><span><a href=\"#ISE-291-Term-Project\" data-toc-modified-id=\"ISE-291-Term-Project-1\"><span class=\"toc-item-num\">1&nbsp;&nbsp;</span>ISE 291 Term Project</a></span><ul class=\"toc-item\"><li><span><a href=\"#Task-1\" data-toc-modified-id=\"Task-1-1.1\"><span class=\"toc-item-num\">1.1&nbsp;&nbsp;</span>Task-1</a></span></li><li><span><a href=\"#Task-2\" data-toc-modified-id=\"Task-2-1.2\"><span class=\"toc-item-num\">1.2&nbsp;&nbsp;</span>Task-2</a></span></li><li><span><a href=\"#Task-3\" data-toc-modified-id=\"Task-3-1.3\"><span class=\"toc-item-num\">1.3&nbsp;&nbsp;</span>Task-3</a></span></li><li><span><a href=\"#Task-4\" data-toc-modified-id=\"Task-4-1.4\"><span class=\"toc-item-num\">1.4&nbsp;&nbsp;</span>Task-4</a></span></li><li><span><a href=\"#Task-5\" data-toc-modified-id=\"Task-5-1.5\"><span class=\"toc-item-num\">1.5&nbsp;&nbsp;</span>Task-5</a></span></li><li><span><a href=\"#Task-6\" data-toc-modified-id=\"Task-6-1.6\"><span class=\"toc-item-num\">1.6&nbsp;&nbsp;</span>Task-6</a></span></li><li><span><a href=\"#Task-7\" data-toc-modified-id=\"Task-7-1.7\"><span class=\"toc-item-num\">1.7&nbsp;&nbsp;</span>Task-7</a></span></li><li><span><a href=\"#Task-8\" data-toc-modified-id=\"Task-8-1.8\"><span class=\"toc-item-num\">1.8&nbsp;&nbsp;</span>Task-8</a></span></li><li><span><a href=\"#Task-9\" data-toc-modified-id=\"Task-9-1.9\"><span class=\"toc-item-num\">1.9&nbsp;&nbsp;</span>Task-9</a></span></li><li><span><a href=\"#Task-10\" data-toc-modified-id=\"Task-10-1.10\"><span class=\"toc-item-num\">1.10&nbsp;&nbsp;</span>Task-10</a></span></li><li><span><a href=\"#Task-11\" data-toc-modified-id=\"Task-11-1.11\"><span class=\"toc-item-num\">1.11&nbsp;&nbsp;</span>Task-11</a></span></li></ul></li></ul></div>"
   ]
  },
  {
   "cell_type": "markdown",
   "id": "stunning-roller",
   "metadata": {},
   "source": [
    "# ISE 291 Term Project "
   ]
  },
  {
   "cell_type": "markdown",
   "id": "abandoned-russia",
   "metadata": {},
   "source": [
    "Group Number =   "
   ]
  },
  {
   "cell_type": "markdown",
   "id": "cloudy-ridge",
   "metadata": {},
   "source": [
    "Group Members:\n",
    "\n",
    "Names                                Student IDs\n"
   ]
  },
  {
   "cell_type": "markdown",
   "id": "worst-pizza",
   "metadata": {},
   "source": [
    "## Task-1"
   ]
  },
  {
   "cell_type": "code",
   "execution_count": 1,
   "id": "consistent-eclipse",
   "metadata": {},
   "outputs": [],
   "source": [
    "import pandas as pd\n",
    "df = pd.re"
   ]
  },
  {
   "cell_type": "markdown",
   "id": "killing-village",
   "metadata": {},
   "source": [
    "## Task-2"
   ]
  },
  {
   "cell_type": "code",
   "execution_count": null,
   "id": "pointed-tulsa",
   "metadata": {},
   "outputs": [],
   "source": []
  },
  {
   "cell_type": "markdown",
   "id": "realistic-mayor",
   "metadata": {},
   "source": [
    "## Task-3"
   ]
  },
  {
   "cell_type": "code",
   "execution_count": null,
   "id": "oriented-crime",
   "metadata": {},
   "outputs": [],
   "source": []
  },
  {
   "cell_type": "markdown",
   "id": "impressive-wagon",
   "metadata": {},
   "source": [
    "## Task-4"
   ]
  },
  {
   "cell_type": "code",
   "execution_count": null,
   "id": "stylish-warren",
   "metadata": {},
   "outputs": [],
   "source": []
  },
  {
   "cell_type": "markdown",
   "id": "loose-premises",
   "metadata": {},
   "source": [
    "## Task-5"
   ]
  },
  {
   "cell_type": "code",
   "execution_count": null,
   "id": "tested-north",
   "metadata": {},
   "outputs": [],
   "source": []
  },
  {
   "cell_type": "markdown",
   "id": "acknowledged-volume",
   "metadata": {},
   "source": [
    "## Task-6"
   ]
  },
  {
   "cell_type": "code",
   "execution_count": null,
   "id": "imposed-pound",
   "metadata": {},
   "outputs": [],
   "source": []
  },
  {
   "cell_type": "markdown",
   "id": "disturbed-material",
   "metadata": {},
   "source": [
    "## Task-7"
   ]
  },
  {
   "cell_type": "code",
   "execution_count": null,
   "id": "raised-approach",
   "metadata": {},
   "outputs": [],
   "source": []
  },
  {
   "cell_type": "markdown",
   "id": "enabling-treatment",
   "metadata": {},
   "source": [
    "## Task-8"
   ]
  },
  {
   "cell_type": "code",
   "execution_count": null,
   "id": "0e7348c3",
   "metadata": {},
   "outputs": [],
   "source": []
  },
  {
   "cell_type": "markdown",
   "id": "47c24466",
   "metadata": {},
   "source": [
    "## Task-9"
   ]
  },
  {
   "cell_type": "code",
   "execution_count": null,
   "id": "022f230a",
   "metadata": {},
   "outputs": [],
   "source": []
  },
  {
   "cell_type": "markdown",
   "id": "26d02a6b",
   "metadata": {},
   "source": [
    "## Task-10"
   ]
  },
  {
   "cell_type": "code",
   "execution_count": null,
   "id": "3f371371",
   "metadata": {},
   "outputs": [],
   "source": []
  },
  {
   "cell_type": "markdown",
   "id": "2f5fed56",
   "metadata": {},
   "source": [
    "## Task-11"
   ]
  },
  {
   "cell_type": "code",
   "execution_count": null,
   "id": "10cf63e8",
   "metadata": {},
   "outputs": [],
   "source": []
  }
 ],
 "metadata": {
  "hide_input": false,
  "kernelspec": {
   "display_name": "Python 3.8.8 64-bit ('base': conda)",
   "language": "python",
   "name": "python388jvsc74a57bd0acc6a843a2ca94f53a62236655295d07f903736221ff2e3b1e910c4c366cbd30"
  },
  "language_info": {
   "codemirror_mode": {
    "name": "ipython",
    "version": 3
   },
   "file_extension": ".py",
   "mimetype": "text/x-python",
   "name": "python",
   "nbconvert_exporter": "python",
   "pygments_lexer": "ipython3",
   "version": "3.8.8"
  },
  "toc": {
   "base_numbering": 1,
   "nav_menu": {},
   "number_sections": true,
   "sideBar": true,
   "skip_h1_title": false,
   "title_cell": "Table of Contents",
   "title_sidebar": "Contents",
   "toc_cell": true,
   "toc_position": {},
   "toc_section_display": true,
   "toc_window_display": false
  },
  "varInspector": {
   "cols": {
    "lenName": 16,
    "lenType": 16,
    "lenVar": 40
   },
   "kernels_config": {
    "python": {
     "delete_cmd_postfix": "",
     "delete_cmd_prefix": "del ",
     "library": "var_list.py",
     "varRefreshCmd": "print(var_dic_list())"
    },
    "r": {
     "delete_cmd_postfix": ") ",
     "delete_cmd_prefix": "rm(",
     "library": "var_list.r",
     "varRefreshCmd": "cat(var_dic_list()) "
    }
   },
   "types_to_exclude": [
    "module",
    "function",
    "builtin_function_or_method",
    "instance",
    "_Feature"
   ],
   "window_display": false
  }
 },
 "nbformat": 4,
 "nbformat_minor": 5
}
